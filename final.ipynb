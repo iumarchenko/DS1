{
 "cells": [
  {
   "cell_type": "code",
   "execution_count": 1,
   "metadata": {},
   "outputs": [],
   "source": [
    "import pandas as pd\n",
    "import numpy as np\n",
    "from sklearn.linear_model import LinearRegression as LR, Ridge\n",
    "from sklearn.ensemble import RandomForestRegressor as RF\n",
    "from sklearn.tree import DecisionTreeClassifier\n",
    "from sklearn.neighbors import KNeighborsClassifier\n",
    "from sklearn.metrics import mean_squared_error as mse, r2_score as r2\n",
    "from sklearn.model_selection import train_test_split \n",
    "from sklearn.preprocessing import MinMaxScaler\n",
    "from sklearn.cluster import AgglomerativeClustering\n",
    "from sklearn.metrics import accuracy_score\n",
    "import warnings\n",
    "warnings.filterwarnings('ignore')\n",
    "import matplotlib.pyplot as plt"
   ]
  },
  {
   "cell_type": "code",
   "execution_count": 2,
   "metadata": {},
   "outputs": [],
   "source": [
    "data_train=pd.read_csv('train.csv')\n",
    "\n",
    "data_test=pd.read_csv('test.csv')"
   ]
  },
  {
   "cell_type": "markdown",
   "metadata": {},
   "source": [
    "### общие преобразования, явные опечатки"
   ]
  },
  {
   "cell_type": "code",
   "execution_count": 3,
   "metadata": {},
   "outputs": [],
   "source": [
    "#тренировочный\n",
    "#слишком много комнат\n",
    "data_train.loc[data_train['Rooms']==10,'Rooms']=2\n",
    "data_train.loc[data_train['Rooms']==19,'Rooms']=1\n",
    "data_train.loc[data_train['Rooms']==6,'Rooms']=2\n",
    "data_train.loc[(data_train['Rooms']>3) & (data_train['Square']<61),'Rooms']=1\n",
    "\n",
    "#комнат 0\n",
    "data_train.loc[[2269,6149,4853],'Rooms']=1\n",
    "data_train.loc[[3911],'Rooms']=2\n",
    "data_train.loc[[4366],'Rooms']=3\n",
    "data_train.loc[[8834],'Rooms']=4\n",
    "data_train.loc[[1397,1981],'Rooms']=5\n",
    "\n",
    "#возможные варианты комнатности\n",
    "rooms_train = data_train['Rooms'].unique()\n",
    "rooms_train.sort(axis=0)\n",
    "\n",
    "#средняя площадь по комнатности\n",
    "square_room_train = []\n",
    "for i in rooms_train:\n",
    "    square_room_train.append(data_train.loc[data_train['Rooms']==i,'Square'].mean())\n",
    "\n",
    "#проблемный столбец лучше убрать, не понятно чем заполнять - средним тоже не правильно\n",
    "data_train.drop('Healthcare_1',axis=1,inplace=True)\n",
    "\n",
    "#неверно год дома\n",
    "data_train.loc[data_train['HouseYear']==20052011,'HouseYear']=2008\n",
    "data_train.loc[data_train['HouseYear']==4968,'HouseYear']=1968\n",
    "\n",
    "#записи с пустыми LifeSquare заливаем средним между квартирами с идентичной комнатностью\n",
    "square_lifesquare_train = []\n",
    "for i in rooms_train:\n",
    "    square_lifesquare_train.append((data_train.loc[data_train['Rooms']==i,'Square']/data_train.loc[data_train['Rooms']==i,'LifeSquare']).mean())\n",
    "    data_train.loc[(data_train['Rooms']==i)&(data_train['LifeSquare'].isnull()),'LifeSquare']=data_train['Square']/square_lifesquare_train[int(i-1)]\n",
    "\n",
    "#0-этажный дом\n",
    "data_train.loc[data_train['HouseFloor'] == 0, 'HouseFloor'] = data_train['Floor']\n",
    "\n",
    "#этаж выше этажей в доме\n",
    "#поменять местами\n",
    "index_array_floor=data_train.loc[data_train['Floor'] > data_train['HouseFloor']].index\n",
    "data_train.loc[index_array_floor,'Floor'] = data_train['Floor'] + data_train['HouseFloor']\n",
    "data_train.loc[index_array_floor,'HouseFloor'] = data_train['Floor'] - data_train['HouseFloor']\n",
    "data_train.loc[index_array_floor,'Floor'] = data_train['Floor'] - data_train['HouseFloor']"
   ]
  },
  {
   "cell_type": "code",
   "execution_count": 4,
   "metadata": {},
   "outputs": [],
   "source": [
    "#тренировочный\n",
    "#общая маленькая < 11\n",
    "data_train.loc[(data_train['Square']<11)&(data_train['LifeSquare']<11),'LifeSquare'] = data_train['LifeSquare']*10\n",
    "data_train.loc[data_train['Square']<11,'Square'] = data_train['Square']*10\n",
    "\n",
    "#общая большая > 300\n",
    "data_train.loc[[4262,4690,6977],'Square'] = data_train['Square']/10\n",
    "data_train.loc[[4262,4690,6977],'LifeSquare'] = data_train['LifeSquare']/10\n",
    "\n",
    "#жилая маленькая < 11\n",
    "data_train.loc[data_train['LifeSquare']<1,'LifeSquare'] = data_train['LifeSquare']*100\n",
    "data_train.loc[data_train['LifeSquare']<11,'LifeSquare'] = data_train['LifeSquare']*10\n",
    "\n",
    "#жилая большая > 300\n",
    "data_train.loc[data_train['LifeSquare']>2000,'LifeSquare'] = data_train['LifeSquare']/100\n",
    "data_train.loc[data_train['LifeSquare']>200,'LifeSquare'] = data_train['LifeSquare']/10\n",
    "\n",
    "#жилая больше общей\n",
    "index_array_square=data_train.loc[data_train['LifeSquare']>(data_train['Square'])].index\n",
    "\n",
    "#поменять местами\n",
    "data_train.loc[index_array_square,'Square'] = data_train['Square'] + data_train['LifeSquare']\n",
    "data_train.loc[index_array_square,'LifeSquare'] = data_train['Square'] - data_train['LifeSquare']\n",
    "data_train.loc[index_array_square,'Square'] = data_train['Square'] - data_train['LifeSquare']"
   ]
  },
  {
   "cell_type": "code",
   "execution_count": 5,
   "metadata": {},
   "outputs": [],
   "source": [
    "#тренировочный\n",
    "#жилая в неверной пропорции от общей\n",
    "for i in rooms_train:\n",
    "    data_train.loc[(data_train['Rooms']==i)&(data_train['LifeSquare']<(data_train['Square']/square_lifesquare_train[int(i-1)])),'LifeSquare'] = data_train['Square']/square_lifesquare_train[int(i-1)]\n",
    "    data_train.loc[(data_train['Rooms']==i)&(data_train['LifeSquare']>(data_train['Square']/square_lifesquare_train[int(i-1)])),'LifeSquare'] = data_train['Square']/square_lifesquare_train[int(i-1)]"
   ]
  },
  {
   "cell_type": "code",
   "execution_count": 6,
   "metadata": {},
   "outputs": [],
   "source": [
    "#тестовый\n",
    "#слишком много комнат\n",
    "data_test.loc[data_test['Rooms']==17,'Rooms']=2\n",
    "data_test.loc[(data_test['Rooms']==4) & (data_test['Square']<61),'Rooms']=1\n",
    "data_test.loc[(data_test['Rooms']==5) & (data_test['Square']<61),'Rooms']=2\n",
    "data_test.loc[data_test['Rooms']==6,'Rooms']=5\n",
    "\n",
    "#комнат 0\n",
    "data_test.loc[(data_test['Rooms']==0) & (data_test['Square']>80),'Rooms']=5\n",
    "data_test.loc[(data_test['Rooms']==0) & (data_test['Square']<80),'Rooms']=3\n",
    "\n",
    "#возможные варианты комнатности\n",
    "rooms_test = data_test['Rooms'].unique()\n",
    "rooms_test.sort(axis=0)\n",
    "\n",
    "#средняя площадь по комнатности\n",
    "square_room_test = []\n",
    "for i in rooms_test:\n",
    "    square_room_test.append(data_test.loc[data_test['Rooms']==i,'Square'].mean())\n",
    "\n",
    "#проблемный столбец лучше убрать, не понятно чем заполнять - средним тоже не правильно\n",
    "data_test.drop('Healthcare_1',axis=1,inplace=True)\n",
    "\n",
    "#записи с пустыми LifeSquare заливаем средним между квартирами с идентичной комнатностью\n",
    "square_lifesquare_test = []\n",
    "for i in rooms_test:\n",
    "    square_lifesquare_test.append((data_test.loc[data_test['Rooms']==i,'Square']/data_test.loc[data_test['Rooms']==i,'LifeSquare']).mean())\n",
    "    data_test.loc[(data_test['Rooms']==i)&(data_test['LifeSquare'].isnull()),'LifeSquare']=data_test['Square']/square_lifesquare_test[int(i-1)]\n",
    "\n",
    "#0-этажный дом\n",
    "data_test.loc[data_test['HouseFloor'] == 0, 'HouseFloor'] = data_test['Floor']\n",
    "\n",
    "#этаж выше этажей в доме\n",
    "#поменять местами\n",
    "index_array_floor=data_test.loc[data_test['Floor'] > data_test['HouseFloor']].index\n",
    "data_test.loc[index_array_floor,'Floor'] = data_test['Floor'] + data_test['HouseFloor']\n",
    "data_test.loc[index_array_floor,'HouseFloor'] = data_test['Floor'] - data_test['HouseFloor']\n",
    "data_test.loc[index_array_floor,'Floor'] = data_test['Floor'] - data_test['HouseFloor']"
   ]
  },
  {
   "cell_type": "code",
   "execution_count": 7,
   "metadata": {},
   "outputs": [],
   "source": [
    "#тестовый\n",
    "#общая маленькая < 11\n",
    "data_test.loc[(data_test['Square']<11)&(data_test['LifeSquare']<11),'LifeSquare'] = data_test['LifeSquare']*10\n",
    "data_test.loc[data_test['Square']<11,'Square'] = data_test['Square']*10\n",
    "\n",
    "#жилая маленькая < 11\n",
    "data_test.loc[data_test['LifeSquare']<1,'LifeSquare'] = data_test['LifeSquare']*100\n",
    "data_test.loc[data_test['LifeSquare']<11,'LifeSquare'] = data_test['LifeSquare']*10\n",
    "\n",
    "#жилая большая > 300\n",
    "data_test.loc[data_test['LifeSquare']>200,'LifeSquare'] = data_test['LifeSquare']/10\n",
    "\n",
    "#жилая больше общей\n",
    "index_array_square=data_test.loc[data_test['LifeSquare']>(data_test['Square'])].index\n",
    "#поменять местами\n",
    "data_test.loc[index_array_square,'Square'] = data_test['Square'] + data_test['LifeSquare']\n",
    "data_test.loc[index_array_square,'LifeSquare'] = data_test['Square'] - data_test['LifeSquare']\n",
    "data_test.loc[index_array_square,'Square'] = data_test['Square'] - data_test['LifeSquare']"
   ]
  },
  {
   "cell_type": "code",
   "execution_count": 8,
   "metadata": {},
   "outputs": [],
   "source": [
    "#тестовый\n",
    "#жилая в неверной пропорции от общей\n",
    "for i in rooms_test:\n",
    "    data_test.loc[(data_test['Rooms']==i)&(data_test['LifeSquare']<(data_test['Square']/square_lifesquare_test[int(i-1)])),'LifeSquare'] = data_test['Square']/square_lifesquare_test[int(i-1)]\n",
    "    data_test.loc[(data_test['Rooms']==i)&(data_test['LifeSquare']>(data_test['Square']/square_lifesquare_test[int(i-1)])),'LifeSquare'] = data_test['Square']/square_lifesquare_test[int(i-1)]"
   ]
  },
  {
   "cell_type": "markdown",
   "metadata": {},
   "source": [
    "### прогноз комнатности"
   ]
  },
  {
   "cell_type": "code",
   "execution_count": 9,
   "metadata": {},
   "outputs": [],
   "source": [
    "#тренировочный\n",
    "stats=data_train.groupby(['Rooms'],as_index=False)['Square'].mean().rename(columns={'Square':'mean_square_room'})\n",
    "data_train=pd.merge(data_train,stats,on=['Rooms'],how='left')\n",
    "data_train['square_room_diff'] = abs(data_train['Square'] - data_train['mean_square_room'])"
   ]
  },
  {
   "cell_type": "code",
   "execution_count": 10,
   "metadata": {},
   "outputs": [],
   "source": [
    "#тренировочный\n",
    "y = data_train['Rooms']\n",
    "X = data_train.loc[:,['Square','mean_square_room']]\n",
    "\n",
    "X_train = data_train.loc[data_train['square_room_diff'] < 5,['Square','mean_square_room']]\n",
    "X_valid = data_train.loc[data_train['square_room_diff'] >= 5,['Square','mean_square_room']]\n",
    "y_train = data_train.loc[data_train['square_room_diff'] < 5,['Rooms']]\n",
    "y_valid = data_train.loc[data_train['square_room_diff'] >= 5,['Rooms']]\n",
    "\n",
    "lr = DecisionTreeClassifier()\n",
    "lr.fit(X_train, y_train)\n",
    "y_pred = lr.predict(X_valid)\n",
    "y_pred1 = lr.predict(data_train.loc[:,['Square','mean_square_room']])\n",
    "data_train['pred_room'] = y_pred1"
   ]
  },
  {
   "cell_type": "code",
   "execution_count": 11,
   "metadata": {},
   "outputs": [],
   "source": [
    "#тестовый\n",
    "stats=data_test.groupby(['Rooms'],as_index=False)['Square'].mean().rename(columns={'Square':'mean_square_room'})\n",
    "data_test=pd.merge(data_test,stats,on=['Rooms'],how='left')\n",
    "data_test['square_room_diff'] = abs(data_test['Square'] - data_test['mean_square_room'])"
   ]
  },
  {
   "cell_type": "code",
   "execution_count": 12,
   "metadata": {},
   "outputs": [],
   "source": [
    "#тестовый\n",
    "y = data_test['Rooms']\n",
    "X = data_test.loc[:,['Square','mean_square_room']]\n",
    "\n",
    "X_train = data_test.loc[data_test['square_room_diff'] < 5,['Square','mean_square_room']]\n",
    "X_valid = data_test.loc[data_test['square_room_diff'] >= 5,['Square','mean_square_room']]\n",
    "y_train = data_test.loc[data_test['square_room_diff'] < 5,['Rooms']]\n",
    "y_valid = data_test.loc[data_test['square_room_diff'] >= 5,['Rooms']]\n",
    "\n",
    "lr = DecisionTreeClassifier()\n",
    "lr.fit(X_train, y_train)\n",
    "y_pred = lr.predict(X_valid)\n",
    "y_pred1 = lr.predict(data_test.loc[:,['Square','mean_square_room']])\n",
    "data_test['pred_room'] = y_pred1"
   ]
  },
  {
   "cell_type": "markdown",
   "metadata": {},
   "source": [
    "### прогноз жилой от комнатности и общей площади"
   ]
  },
  {
   "cell_type": "code",
   "execution_count": 13,
   "metadata": {},
   "outputs": [
    {
     "name": "stdout",
     "output_type": "stream",
     "text": [
      "1.8699547750230925 0.9810469922605816\n"
     ]
    }
   ],
   "source": [
    "#тренировочный\n",
    "features=data_train[['Rooms','Square']]\n",
    "target=data_train['LifeSquare']\n",
    "X_train,X_test,y_train,y_test=train_test_split(features,target,test_size=0.3)\n",
    "model1=RF(n_estimators=100,max_depth=10,min_samples_leaf=5)\n",
    "model1.fit(X_train,y_train)\n",
    "y_pred=model1.predict(X_test)\n",
    "y_pred1 = model1.predict(data_train.loc[:,['Rooms','Square']])\n",
    "data_train['pred_life_square'] = y_pred1\n",
    "print(mse(data_train['LifeSquare'],y_pred1),r2(data_train['LifeSquare'],y_pred1))\n",
    "data_train['life_square_diff'] = abs(data_train['LifeSquare'] - data_train['pred_life_square'])"
   ]
  },
  {
   "cell_type": "code",
   "execution_count": 14,
   "metadata": {},
   "outputs": [
    {
     "name": "stdout",
     "output_type": "stream",
     "text": [
      "1.4777257666452577 0.9769480824999172\n"
     ]
    }
   ],
   "source": [
    "#тестовый\n",
    "features=data_test[['Rooms','Square']]\n",
    "target=data_test['LifeSquare']\n",
    "X_train,X_test,y_train,y_test=train_test_split(features,target,test_size=0.3)\n",
    "model1=RF(n_estimators=100,max_depth=10,min_samples_leaf=5)\n",
    "model1.fit(X_train,y_train)\n",
    "y_pred=model1.predict(X_test)\n",
    "y_pred1 = model1.predict(data_test.loc[:,['Rooms','Square']])\n",
    "data_test['pred_life_square'] = y_pred1\n",
    "print(mse(data_test['LifeSquare'],y_pred1),r2(data_test['LifeSquare'],y_pred1))\n",
    "data_test['life_square_diff'] = abs(data_test['LifeSquare'] - data_test['pred_life_square'])"
   ]
  },
  {
   "cell_type": "markdown",
   "metadata": {},
   "source": [
    "### группировка по району и комнатности"
   ]
  },
  {
   "cell_type": "code",
   "execution_count": 15,
   "metadata": {},
   "outputs": [],
   "source": [
    "#тренировочный\n",
    "distr_info=data_train['DistrictId'].value_counts().reset_index().rename(columns={'DistrictId':'house_count_district','index':'DistrictId'})\n",
    "\n",
    "distr_info['district_is_large']=0\n",
    "distr_info.loc[distr_info['house_count_district']<10, 'district_is_large'] = 0\n",
    "distr_info.loc[(distr_info['house_count_district']>=10)&(distr_info['house_count_district']<30), 'district_is_large'] = 1\n",
    "distr_info.loc[(distr_info['house_count_district']>=30)&(distr_info['house_count_district']<50), 'district_is_large'] = 2\n",
    "distr_info.loc[(distr_info['house_count_district']>=50)&(distr_info['house_count_district']<100), 'district_is_large'] = 3\n",
    "distr_info.loc[distr_info['house_count_district']>=100, 'district_is_large'] = 4\n",
    "\n",
    "data_train=pd.merge(data_train,distr_info,on='DistrictId',how='left')\n",
    "#distr_info['district_is_large'].value_counts()"
   ]
  },
  {
   "cell_type": "code",
   "execution_count": 16,
   "metadata": {},
   "outputs": [],
   "source": [
    "#тренировочный\n",
    "stats=data_train.groupby(['district_is_large','Rooms'],as_index=False)['Price'].mean().rename(columns={'Price':'mean_price'})\n",
    "data_train=pd.merge(data_train,stats,on=['district_is_large','Rooms'],how='left')"
   ]
  },
  {
   "cell_type": "code",
   "execution_count": 17,
   "metadata": {},
   "outputs": [],
   "source": [
    "#тестовый\n",
    "distr_info=data_test['DistrictId'].value_counts().reset_index().rename(columns={'DistrictId':'house_count_district','index':'DistrictId'})\n",
    "\n",
    "distr_info['district_is_large']=0\n",
    "distr_info.loc[distr_info['house_count_district']<10, 'district_is_large'] = 0\n",
    "distr_info.loc[(distr_info['house_count_district']>=10)&(distr_info['house_count_district']<30), 'district_is_large'] = 1\n",
    "distr_info.loc[(distr_info['house_count_district']>=30)&(distr_info['house_count_district']<50), 'district_is_large'] = 2\n",
    "distr_info.loc[(distr_info['house_count_district']>=50)&(distr_info['house_count_district']<100), 'district_is_large'] = 3\n",
    "distr_info.loc[distr_info['house_count_district']>=100, 'district_is_large'] = 4\n",
    "\n",
    "data_test=pd.merge(data_test,distr_info,on='DistrictId',how='left')"
   ]
  },
  {
   "cell_type": "code",
   "execution_count": 18,
   "metadata": {},
   "outputs": [],
   "source": [
    "#тестовый\n",
    "data_test=pd.merge(data_test,stats,on=['district_is_large','Rooms'],how='left')"
   ]
  },
  {
   "cell_type": "markdown",
   "metadata": {},
   "source": [
    "### группировка по году домов"
   ]
  },
  {
   "cell_type": "code",
   "execution_count": 19,
   "metadata": {},
   "outputs": [],
   "source": [
    "#тренировочный\n",
    "data_train['old_house']=0\n",
    "data_train.loc[data_train['HouseYear']<1960, 'old_house'] = 0\n",
    "data_train.loc[(data_train['HouseYear']>=1960)&(data_train['HouseYear']<1970), 'old_house'] = 1 \n",
    "data_train.loc[(data_train['HouseYear']>=1970)&(data_train['HouseYear']<1980), 'old_house'] = 2 \n",
    "data_train.loc[(data_train['HouseYear']>=1980)&(data_train['HouseYear']<1990), 'old_house'] = 3 \n",
    "data_train.loc[(data_train['HouseYear']>=1990)&(data_train['HouseYear']<2000), 'old_house'] = 4 \n",
    "data_train.loc[(data_train['HouseYear']>=2000)&(data_train['HouseYear']<2010), 'old_house'] = 5 \n",
    "data_train.loc[data_train['HouseYear']>=2010, 'old_house'] = 6"
   ]
  },
  {
   "cell_type": "code",
   "execution_count": 20,
   "metadata": {},
   "outputs": [],
   "source": [
    "#тренировочный\n",
    "stats=data_train.groupby(['old_house','Rooms'],as_index=False)['Price'].mean().rename(columns={'Price':'mean_price_old_house_room'})\n",
    "data_train=pd.merge(data_train,stats,on=['old_house','Rooms'],how='left')"
   ]
  },
  {
   "cell_type": "code",
   "execution_count": 21,
   "metadata": {},
   "outputs": [],
   "source": [
    "#тестовый\n",
    "data_test['old_house']=0\n",
    "data_test.loc[data_test['HouseYear']<1960, 'old_house'] = 0\n",
    "data_test.loc[(data_test['HouseYear']>=1960)&(data_test['HouseYear']<1970), 'old_house'] = 1 \n",
    "data_test.loc[(data_test['HouseYear']>=1970)&(data_test['HouseYear']<1980), 'old_house'] = 2 \n",
    "data_test.loc[(data_test['HouseYear']>=1980)&(data_test['HouseYear']<1990), 'old_house'] = 3 \n",
    "data_test.loc[(data_test['HouseYear']>=1990)&(data_test['HouseYear']<2000), 'old_house'] = 4 \n",
    "data_test.loc[(data_test['HouseYear']>=2000)&(data_test['HouseYear']<2010), 'old_house'] = 5 \n",
    "data_test.loc[data_test['HouseYear']>=2010, 'old_house'] = 6"
   ]
  },
  {
   "cell_type": "code",
   "execution_count": 22,
   "metadata": {},
   "outputs": [],
   "source": [
    "#тестовый\n",
    "data_test=pd.merge(data_test,stats,on=['old_house','Rooms'],how='left')"
   ]
  },
  {
   "cell_type": "markdown",
   "metadata": {},
   "source": [
    "### группировка по площади и району"
   ]
  },
  {
   "cell_type": "code",
   "execution_count": 23,
   "metadata": {},
   "outputs": [],
   "source": [
    "#тренировочный\n",
    "data_train['square_group'] = 0\n",
    "data_train.loc[data_train['Square']<45,'square_group'] = 0\n",
    "data_train.loc[(data_train['Square']>=40)&(data_train['Square']<60),'square_group'] = 1\n",
    "data_train.loc[(data_train['Square']>=60)&(data_train['Square']<80),'square_group'] = 2\n",
    "data_train.loc[(data_train['Square']>=80)&(data_train['Square']<100),'square_group'] = 3\n",
    "data_train.loc[data_train['Square']>=100,'square_group'] = 4"
   ]
  },
  {
   "cell_type": "code",
   "execution_count": 24,
   "metadata": {},
   "outputs": [],
   "source": [
    "#тренировочный\n",
    "stats=data_train.groupby(['district_is_large','square_group'],as_index=False)['Price'].mean().rename(columns={'Price':'mean_price_square_group'})\n",
    "data_train=pd.merge(data_train,stats,on=['district_is_large','square_group'],how='left')"
   ]
  },
  {
   "cell_type": "code",
   "execution_count": 25,
   "metadata": {},
   "outputs": [],
   "source": [
    "#тестовый\n",
    "data_test['square_group'] = 0\n",
    "data_test.loc[data_test['Square']<45,'square_group'] = 0\n",
    "data_test.loc[(data_test['Square']>=40)&(data_test['Square']<60),'square_group'] = 1\n",
    "data_test.loc[(data_test['Square']>=60)&(data_test['Square']<80),'square_group'] = 2\n",
    "data_test.loc[(data_test['Square']>=80)&(data_test['Square']<100),'square_group'] = 3\n",
    "data_test.loc[data_test['Square']>=100,'square_group'] = 4"
   ]
  },
  {
   "cell_type": "code",
   "execution_count": 26,
   "metadata": {},
   "outputs": [],
   "source": [
    "#тестовый\n",
    "data_test=pd.merge(data_test,stats,on=['district_is_large','square_group'],how='left')"
   ]
  },
  {
   "cell_type": "markdown",
   "metadata": {},
   "source": [
    "## МОДЕЛИ"
   ]
  },
  {
   "cell_type": "code",
   "execution_count": 78,
   "metadata": {},
   "outputs": [],
   "source": [
    "features=data_train[['DistrictId','pred_room','pred_life_square','Square','Floor','HouseFloor','HouseYear','mean_price','mean_price_old_house_room']]\n",
    "target=data_train['Price']"
   ]
  },
  {
   "cell_type": "code",
   "execution_count": 79,
   "metadata": {},
   "outputs": [],
   "source": [
    "model3=RF(n_estimators=150,max_depth=100,min_samples_leaf=5)\n",
    "X_train,X_test,y_train,y_test=train_test_split(features,target,test_size=0.2,random_state=5)"
   ]
  },
  {
   "cell_type": "code",
   "execution_count": 80,
   "metadata": {},
   "outputs": [
    {
     "name": "stdout",
     "output_type": "stream",
     "text": [
      "Wall time: 2.97 s\n"
     ]
    },
    {
     "data": {
      "text/plain": [
       "RandomForestRegressor(bootstrap=True, criterion='mse', max_depth=100,\n",
       "           max_features='auto', max_leaf_nodes=None,\n",
       "           min_impurity_decrease=0.0, min_impurity_split=None,\n",
       "           min_samples_leaf=5, min_samples_split=2,\n",
       "           min_weight_fraction_leaf=0.0, n_estimators=150, n_jobs=None,\n",
       "           oob_score=False, random_state=None, verbose=0, warm_start=False)"
      ]
     },
     "execution_count": 80,
     "metadata": {},
     "output_type": "execute_result"
    }
   ],
   "source": [
    "%%time\n",
    "model3.fit(X_train,y_train)"
   ]
  },
  {
   "cell_type": "code",
   "execution_count": 81,
   "metadata": {},
   "outputs": [],
   "source": [
    "y_pred_3=model3.predict(X_test)"
   ]
  },
  {
   "cell_type": "code",
   "execution_count": 82,
   "metadata": {},
   "outputs": [
    {
     "name": "stdout",
     "output_type": "stream",
     "text": [
      "2558180250.2383676 0.6813213650587021\n"
     ]
    }
   ],
   "source": [
    "print(mse(y_test,y_pred_3),r2(y_test,y_pred_3))"
   ]
  },
  {
   "cell_type": "code",
   "execution_count": 83,
   "metadata": {},
   "outputs": [
    {
     "data": {
      "text/plain": [
       "array([0.11344591, 0.00176528, 0.11685771, 0.11075845, 0.02839351,\n",
       "       0.04773427, 0.03997853, 0.24489703, 0.29616931])"
      ]
     },
     "execution_count": 83,
     "metadata": {},
     "output_type": "execute_result"
    }
   ],
   "source": [
    "model3.feature_importances_"
   ]
  },
  {
   "cell_type": "code",
   "execution_count": 84,
   "metadata": {},
   "outputs": [],
   "source": [
    "data_test['Price']=model3.predict(data_test.loc[:,['DistrictId','pred_room','pred_life_square','Square','Floor','HouseFloor','HouseYear','mean_price','mean_price_old_house_room']])"
   ]
  },
  {
   "cell_type": "code",
   "execution_count": 85,
   "metadata": {},
   "outputs": [],
   "source": [
    "data_test.loc[:,['Id','Price']].to_csv('IMarchenko_predictions.csv',index=None)"
   ]
  },
  {
   "cell_type": "code",
   "execution_count": 86,
   "metadata": {},
   "outputs": [
    {
     "data": {
      "text/html": [
       "<div>\n",
       "<style scoped>\n",
       "    .dataframe tbody tr th:only-of-type {\n",
       "        vertical-align: middle;\n",
       "    }\n",
       "\n",
       "    .dataframe tbody tr th {\n",
       "        vertical-align: top;\n",
       "    }\n",
       "\n",
       "    .dataframe thead th {\n",
       "        text-align: right;\n",
       "    }\n",
       "</style>\n",
       "<table border=\"1\" class=\"dataframe\">\n",
       "  <thead>\n",
       "    <tr style=\"text-align: right;\">\n",
       "      <th></th>\n",
       "      <th>Id</th>\n",
       "      <th>Price</th>\n",
       "    </tr>\n",
       "  </thead>\n",
       "  <tbody>\n",
       "    <tr>\n",
       "      <th>0</th>\n",
       "      <td>725</td>\n",
       "      <td>206696.836050</td>\n",
       "    </tr>\n",
       "    <tr>\n",
       "      <th>1</th>\n",
       "      <td>15856</td>\n",
       "      <td>250790.781152</td>\n",
       "    </tr>\n",
       "    <tr>\n",
       "      <th>2</th>\n",
       "      <td>5480</td>\n",
       "      <td>181848.334163</td>\n",
       "    </tr>\n",
       "    <tr>\n",
       "      <th>3</th>\n",
       "      <td>15664</td>\n",
       "      <td>386034.940305</td>\n",
       "    </tr>\n",
       "    <tr>\n",
       "      <th>4</th>\n",
       "      <td>14275</td>\n",
       "      <td>146396.634865</td>\n",
       "    </tr>\n",
       "    <tr>\n",
       "      <th>5</th>\n",
       "      <td>7633</td>\n",
       "      <td>199495.225472</td>\n",
       "    </tr>\n",
       "    <tr>\n",
       "      <th>6</th>\n",
       "      <td>13329</td>\n",
       "      <td>179126.596487</td>\n",
       "    </tr>\n",
       "    <tr>\n",
       "      <th>7</th>\n",
       "      <td>5502</td>\n",
       "      <td>238060.034969</td>\n",
       "    </tr>\n",
       "    <tr>\n",
       "      <th>8</th>\n",
       "      <td>4220</td>\n",
       "      <td>313858.144048</td>\n",
       "    </tr>\n",
       "    <tr>\n",
       "      <th>9</th>\n",
       "      <td>11538</td>\n",
       "      <td>208143.114142</td>\n",
       "    </tr>\n",
       "    <tr>\n",
       "      <th>10</th>\n",
       "      <td>15975</td>\n",
       "      <td>265660.890242</td>\n",
       "    </tr>\n",
       "    <tr>\n",
       "      <th>11</th>\n",
       "      <td>3310</td>\n",
       "      <td>227934.706592</td>\n",
       "    </tr>\n",
       "    <tr>\n",
       "      <th>12</th>\n",
       "      <td>9286</td>\n",
       "      <td>154629.471857</td>\n",
       "    </tr>\n",
       "    <tr>\n",
       "      <th>13</th>\n",
       "      <td>11260</td>\n",
       "      <td>197530.910567</td>\n",
       "    </tr>\n",
       "    <tr>\n",
       "      <th>14</th>\n",
       "      <td>5214</td>\n",
       "      <td>112985.621137</td>\n",
       "    </tr>\n",
       "    <tr>\n",
       "      <th>15</th>\n",
       "      <td>11307</td>\n",
       "      <td>194941.220851</td>\n",
       "    </tr>\n",
       "    <tr>\n",
       "      <th>16</th>\n",
       "      <td>13543</td>\n",
       "      <td>374276.604652</td>\n",
       "    </tr>\n",
       "    <tr>\n",
       "      <th>17</th>\n",
       "      <td>615</td>\n",
       "      <td>178836.995018</td>\n",
       "    </tr>\n",
       "    <tr>\n",
       "      <th>18</th>\n",
       "      <td>3495</td>\n",
       "      <td>187369.103103</td>\n",
       "    </tr>\n",
       "    <tr>\n",
       "      <th>19</th>\n",
       "      <td>2321</td>\n",
       "      <td>228642.802835</td>\n",
       "    </tr>\n",
       "    <tr>\n",
       "      <th>20</th>\n",
       "      <td>12046</td>\n",
       "      <td>187316.861914</td>\n",
       "    </tr>\n",
       "    <tr>\n",
       "      <th>21</th>\n",
       "      <td>16688</td>\n",
       "      <td>146654.550452</td>\n",
       "    </tr>\n",
       "    <tr>\n",
       "      <th>22</th>\n",
       "      <td>12694</td>\n",
       "      <td>183687.263221</td>\n",
       "    </tr>\n",
       "    <tr>\n",
       "      <th>23</th>\n",
       "      <td>783</td>\n",
       "      <td>155692.566673</td>\n",
       "    </tr>\n",
       "    <tr>\n",
       "      <th>24</th>\n",
       "      <td>8968</td>\n",
       "      <td>177003.819997</td>\n",
       "    </tr>\n",
       "    <tr>\n",
       "      <th>25</th>\n",
       "      <td>13454</td>\n",
       "      <td>175267.707068</td>\n",
       "    </tr>\n",
       "    <tr>\n",
       "      <th>26</th>\n",
       "      <td>12190</td>\n",
       "      <td>274021.267345</td>\n",
       "    </tr>\n",
       "    <tr>\n",
       "      <th>27</th>\n",
       "      <td>11160</td>\n",
       "      <td>188525.513038</td>\n",
       "    </tr>\n",
       "    <tr>\n",
       "      <th>28</th>\n",
       "      <td>10291</td>\n",
       "      <td>199889.452568</td>\n",
       "    </tr>\n",
       "    <tr>\n",
       "      <th>29</th>\n",
       "      <td>891</td>\n",
       "      <td>319317.415072</td>\n",
       "    </tr>\n",
       "    <tr>\n",
       "      <th>...</th>\n",
       "      <td>...</td>\n",
       "      <td>...</td>\n",
       "    </tr>\n",
       "    <tr>\n",
       "      <th>4970</th>\n",
       "      <td>1740</td>\n",
       "      <td>189054.873299</td>\n",
       "    </tr>\n",
       "    <tr>\n",
       "      <th>4971</th>\n",
       "      <td>3450</td>\n",
       "      <td>172209.321903</td>\n",
       "    </tr>\n",
       "    <tr>\n",
       "      <th>4972</th>\n",
       "      <td>16064</td>\n",
       "      <td>119006.912628</td>\n",
       "    </tr>\n",
       "    <tr>\n",
       "      <th>4973</th>\n",
       "      <td>1804</td>\n",
       "      <td>111918.540184</td>\n",
       "    </tr>\n",
       "    <tr>\n",
       "      <th>4974</th>\n",
       "      <td>5296</td>\n",
       "      <td>209621.239466</td>\n",
       "    </tr>\n",
       "    <tr>\n",
       "      <th>4975</th>\n",
       "      <td>5346</td>\n",
       "      <td>455566.709808</td>\n",
       "    </tr>\n",
       "    <tr>\n",
       "      <th>4976</th>\n",
       "      <td>4723</td>\n",
       "      <td>190917.937658</td>\n",
       "    </tr>\n",
       "    <tr>\n",
       "      <th>4977</th>\n",
       "      <td>417</td>\n",
       "      <td>171614.378496</td>\n",
       "    </tr>\n",
       "    <tr>\n",
       "      <th>4978</th>\n",
       "      <td>15756</td>\n",
       "      <td>150031.829730</td>\n",
       "    </tr>\n",
       "    <tr>\n",
       "      <th>4979</th>\n",
       "      <td>14090</td>\n",
       "      <td>185477.730595</td>\n",
       "    </tr>\n",
       "    <tr>\n",
       "      <th>4980</th>\n",
       "      <td>14778</td>\n",
       "      <td>332584.858508</td>\n",
       "    </tr>\n",
       "    <tr>\n",
       "      <th>4981</th>\n",
       "      <td>2560</td>\n",
       "      <td>200873.261062</td>\n",
       "    </tr>\n",
       "    <tr>\n",
       "      <th>4982</th>\n",
       "      <td>12920</td>\n",
       "      <td>95670.024946</td>\n",
       "    </tr>\n",
       "    <tr>\n",
       "      <th>4983</th>\n",
       "      <td>8249</td>\n",
       "      <td>177950.226909</td>\n",
       "    </tr>\n",
       "    <tr>\n",
       "      <th>4984</th>\n",
       "      <td>7125</td>\n",
       "      <td>171701.964964</td>\n",
       "    </tr>\n",
       "    <tr>\n",
       "      <th>4985</th>\n",
       "      <td>11732</td>\n",
       "      <td>147001.009615</td>\n",
       "    </tr>\n",
       "    <tr>\n",
       "      <th>4986</th>\n",
       "      <td>13365</td>\n",
       "      <td>343864.223287</td>\n",
       "    </tr>\n",
       "    <tr>\n",
       "      <th>4987</th>\n",
       "      <td>5361</td>\n",
       "      <td>324158.642614</td>\n",
       "    </tr>\n",
       "    <tr>\n",
       "      <th>4988</th>\n",
       "      <td>15937</td>\n",
       "      <td>320183.630949</td>\n",
       "    </tr>\n",
       "    <tr>\n",
       "      <th>4989</th>\n",
       "      <td>2591</td>\n",
       "      <td>219251.849621</td>\n",
       "    </tr>\n",
       "    <tr>\n",
       "      <th>4990</th>\n",
       "      <td>15706</td>\n",
       "      <td>199901.525167</td>\n",
       "    </tr>\n",
       "    <tr>\n",
       "      <th>4991</th>\n",
       "      <td>2105</td>\n",
       "      <td>218682.176596</td>\n",
       "    </tr>\n",
       "    <tr>\n",
       "      <th>4992</th>\n",
       "      <td>7220</td>\n",
       "      <td>361302.671522</td>\n",
       "    </tr>\n",
       "    <tr>\n",
       "      <th>4993</th>\n",
       "      <td>14562</td>\n",
       "      <td>212265.579950</td>\n",
       "    </tr>\n",
       "    <tr>\n",
       "      <th>4994</th>\n",
       "      <td>6836</td>\n",
       "      <td>198938.190025</td>\n",
       "    </tr>\n",
       "    <tr>\n",
       "      <th>4995</th>\n",
       "      <td>8180</td>\n",
       "      <td>260441.101211</td>\n",
       "    </tr>\n",
       "    <tr>\n",
       "      <th>4996</th>\n",
       "      <td>4695</td>\n",
       "      <td>140717.421388</td>\n",
       "    </tr>\n",
       "    <tr>\n",
       "      <th>4997</th>\n",
       "      <td>5783</td>\n",
       "      <td>308810.758000</td>\n",
       "    </tr>\n",
       "    <tr>\n",
       "      <th>4998</th>\n",
       "      <td>4780</td>\n",
       "      <td>192667.071480</td>\n",
       "    </tr>\n",
       "    <tr>\n",
       "      <th>4999</th>\n",
       "      <td>12504</td>\n",
       "      <td>173793.223111</td>\n",
       "    </tr>\n",
       "  </tbody>\n",
       "</table>\n",
       "<p>5000 rows × 2 columns</p>\n",
       "</div>"
      ],
      "text/plain": [
       "         Id          Price\n",
       "0       725  206696.836050\n",
       "1     15856  250790.781152\n",
       "2      5480  181848.334163\n",
       "3     15664  386034.940305\n",
       "4     14275  146396.634865\n",
       "5      7633  199495.225472\n",
       "6     13329  179126.596487\n",
       "7      5502  238060.034969\n",
       "8      4220  313858.144048\n",
       "9     11538  208143.114142\n",
       "10    15975  265660.890242\n",
       "11     3310  227934.706592\n",
       "12     9286  154629.471857\n",
       "13    11260  197530.910567\n",
       "14     5214  112985.621137\n",
       "15    11307  194941.220851\n",
       "16    13543  374276.604652\n",
       "17      615  178836.995018\n",
       "18     3495  187369.103103\n",
       "19     2321  228642.802835\n",
       "20    12046  187316.861914\n",
       "21    16688  146654.550452\n",
       "22    12694  183687.263221\n",
       "23      783  155692.566673\n",
       "24     8968  177003.819997\n",
       "25    13454  175267.707068\n",
       "26    12190  274021.267345\n",
       "27    11160  188525.513038\n",
       "28    10291  199889.452568\n",
       "29      891  319317.415072\n",
       "...     ...            ...\n",
       "4970   1740  189054.873299\n",
       "4971   3450  172209.321903\n",
       "4972  16064  119006.912628\n",
       "4973   1804  111918.540184\n",
       "4974   5296  209621.239466\n",
       "4975   5346  455566.709808\n",
       "4976   4723  190917.937658\n",
       "4977    417  171614.378496\n",
       "4978  15756  150031.829730\n",
       "4979  14090  185477.730595\n",
       "4980  14778  332584.858508\n",
       "4981   2560  200873.261062\n",
       "4982  12920   95670.024946\n",
       "4983   8249  177950.226909\n",
       "4984   7125  171701.964964\n",
       "4985  11732  147001.009615\n",
       "4986  13365  343864.223287\n",
       "4987   5361  324158.642614\n",
       "4988  15937  320183.630949\n",
       "4989   2591  219251.849621\n",
       "4990  15706  199901.525167\n",
       "4991   2105  218682.176596\n",
       "4992   7220  361302.671522\n",
       "4993  14562  212265.579950\n",
       "4994   6836  198938.190025\n",
       "4995   8180  260441.101211\n",
       "4996   4695  140717.421388\n",
       "4997   5783  308810.758000\n",
       "4998   4780  192667.071480\n",
       "4999  12504  173793.223111\n",
       "\n",
       "[5000 rows x 2 columns]"
      ]
     },
     "execution_count": 86,
     "metadata": {},
     "output_type": "execute_result"
    }
   ],
   "source": [
    "pd.read_csv('IMarchenko_predictions.csv')"
   ]
  },
  {
   "cell_type": "code",
   "execution_count": null,
   "metadata": {},
   "outputs": [],
   "source": []
  }
 ],
 "metadata": {
  "kernelspec": {
   "display_name": "Python 3",
   "language": "python",
   "name": "python3"
  },
  "language_info": {
   "codemirror_mode": {
    "name": "ipython",
    "version": 3
   },
   "file_extension": ".py",
   "mimetype": "text/x-python",
   "name": "python",
   "nbconvert_exporter": "python",
   "pygments_lexer": "ipython3",
   "version": "3.7.3"
  }
 },
 "nbformat": 4,
 "nbformat_minor": 2
}
